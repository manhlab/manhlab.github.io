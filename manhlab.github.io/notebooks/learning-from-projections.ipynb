{
 "cells": [
  {
   "cell_type": "markdown",
   "metadata": {},
   "source": [
    "# Learning from Projections"
   ]
  },
  {
   "cell_type": "code",
   "execution_count": null,
   "metadata": {},
   "outputs": [],
   "source": [
    "import numpy as np\n",
    "import open3d as o3d\n",
    "import plotly.graph_objects as go\n",
    "import plotly.io as pio\n",
    "from plotly.subplots import make_subplots"
   ]
  },
  {
   "cell_type": "markdown",
   "metadata": {},
   "source": [
    "## Data loading and preprocessing"
   ]
  },
  {
   "cell_type": "code",
   "execution_count": null,
   "metadata": {},
   "outputs": [],
   "source": [
    "# Getting the files (too large this time to store in repository)\n",
    "!wget -nc https://graphics.stanford.edu/data/3Dscanrep/xyzrgb/xyzrgb_dragon.ply.gz\n",
    "!gunzip -n xyzrgb_dragon.ply.gz  # Interrupt kernel if asked if you want to overwrite existing file\n",
    "\n",
    "# Load PLY file and reduce density to 1%\n",
    "pcd = o3d.io.read_point_cloud(\"xyzrgb_dragon.ply\")\n",
    "pcd = pcd.uniform_down_sample(100)\n",
    "\n",
    "# Transform point cloud to Numpy array, remove outliers, move away from camera\n",
    "points = np.asarray(pcd.points)\n",
    "points = points[points[:, 1] > -42]\n",
    "x = points[:, 0]\n",
    "y = points[:, 1]\n",
    "z = points[:, 2]\n",
    "z -= z.min()\n",
    "z += 125\n",
    "\n",
    "object3d = go.Scatter3d(x=x,\n",
    "                        y=y,\n",
    "                        z=z,\n",
    "                        mode='markers',\n",
    "                        marker=dict(size=1,\n",
    "                                    color=y,\n",
    "                                    colorscale='magma'),\n",
    "                        hovertemplate=\"<b>Point</b><br>x: %{x:.2f}<br>y: %{y:.2f}<br>z: %{z:.2f}<extra></extra>\",\n",
    "                        showlegend=False)\n",
    "\n",
    "fig = go.Figure(object3d)\n",
    "\n",
    "fig.layout.scene.camera=dict(eye=dict(x=0, y=0, z=-1.5),\n",
    "                             up=dict(x=0, y=1, z=0))\n",
    "\n",
    "fig.update_layout(scene=dict(\n",
    "                    xaxis=dict(visible=False),\n",
    "                    yaxis=dict(visible=False),\n",
    "                    zaxis=dict(visible=False),\n",
    "                    aspectmode='data'),\n",
    "                  hoverlabel=dict(font_size=18),\n",
    "                  showlegend=False,\n",
    "                  width=640,\n",
    "                  height=480,\n",
    "                  margin=dict(r=0, l=0, b=0, t=0, pad=0),\n",
    "                  scene_dragmode='orbit')"
   ]
  },
  {
   "cell_type": "markdown",
   "metadata": {},
   "source": [
    "## Projection using pinhole camera model"
   ]
  },
  {
   "cell_type": "code",
   "execution_count": null,
   "metadata": {},
   "outputs": [],
   "source": [
    "# Camera intrinsics (taken from Kinect RGB-D camera)\n",
    "width = 640\n",
    "height = 480\n",
    "principal_point_offset = [319.5, 239.5]\n",
    "focal_length = 525.0\n",
    "axis_skew = 0\n",
    "\n",
    "f_x = focal_length\n",
    "f_y = focal_length\n",
    "x_0 = principal_point_offset[0]\n",
    "y_0 = principal_point_offset[1]\n",
    "s = axis_skew\n",
    "\n",
    "camera_intriniscs = np.array([[f_x, s, x_0],\n",
    "                              [0, f_y, y_0],\n",
    "                              [0,   0, 1]])\n",
    "K = camera_intriniscs\n",
    "\n",
    "def pinhole_camera_projection(point, camera_intrinsics):\n",
    "    K = camera_intrinsics\n",
    "    point_x, point_y, point_z = point\n",
    "    pixel_x = np.rint(point_x * K[0, 0] / point_z + K[0, 2]).astype(np.int32)\n",
    "    pixel_y = np.rint(point_y * K[1, 1] / point_z + K[1, 2]).astype(np.int32)\n",
    "    return pixel_x, pixel_y\n",
    "\n",
    "pixels = np.array([pinhole_camera_projection(p, K) for p in points])\n",
    "\n",
    "# Can be used later to make an orthographic projection of\n",
    "# the image pixels back into 3D space\n",
    "points_z = points[:, 2]\n",
    "points_z = points_z[(pixels[:, 0] >= 0) & (pixels[:, 1] >= 0)]\n",
    "points_z = points_z[(pixels[:, 0] < width) & (pixels[:, 1] < height)]\n",
    "\n",
    "# Add intensity values to pixels and remove erroneous/out of view projections\n",
    "pixels = np.vstack([pixels.T, y]).T\n",
    "pixels = pixels[(pixels[:, 0] >= 0) & (pixels[:, 1] >= 0)]\n",
    "pixels = pixels[(pixels[:, 0] < width) & (pixels[:, 1] < height)]"
   ]
  },
  {
   "cell_type": "markdown",
   "metadata": {},
   "source": [
    "## 2D projection"
   ]
  },
  {
   "cell_type": "code",
   "execution_count": null,
   "metadata": {},
   "outputs": [],
   "source": [
    "image2d = go.Scattergl(x=pixels[:, 0],\n",
    "                       y=pixels[:, 1],\n",
    "                       mode='markers',\n",
    "                       marker=dict(size=1,\n",
    "                                   color=pixels[:, 2],\n",
    "                                   colorscale='magma',\n",
    "                                   symbol='square'),\n",
    "                       hovertemplate=\"<b>Pixel:</b> %{x}, %{y}<br><extra></extra>\",\n",
    "                       showlegend=False)\n",
    "\n",
    "fig = go.Figure(image2d)\n",
    "\n",
    "fig.layout.scene.camera=dict(eye=dict(x=0, y=0, z=-1),\n",
    "                             up=dict(x=0, y=-1, z=0),\n",
    "                             projection=dict(type=\"orthographic\"))\n",
    "\n",
    "fig.update_layout(template='plotly_white',\n",
    "                  xaxis=dict(constrain='domain',\n",
    "                             visible=False,\n",
    "                             autorange='reversed'),\n",
    "                  yaxis=dict(scaleanchor='x',\n",
    "                             visible=False),\n",
    "                  hoverlabel=dict(font_size=18),\n",
    "                  width=width,\n",
    "                  height=height,\n",
    "                  margin=dict(r=0, l=0, b=0, t=0, pad=0))"
   ]
  },
  {
   "cell_type": "markdown",
   "metadata": {},
   "source": [
    "## 2D projection in 3D space"
   ]
  },
  {
   "cell_type": "code",
   "execution_count": null,
   "metadata": {},
   "outputs": [],
   "source": [
    "# Replace 80 by points_z to obtain orthographic projection\n",
    "x = (pixels[:, 0] - K[0, 2]) / K[0, 0] * 80\n",
    "y = (pixels[:, 1] - K[1, 2]) / K[1, 1] * 80\n",
    "z = np.ones_like(pixels[:, 0]) * 80  # Distance from camera\n",
    "\n",
    "image3d = go.Scatter3d(x=x,\n",
    "                       y=y,\n",
    "                       z=z,\n",
    "                       mode='markers',\n",
    "                       marker=dict(size=1,\n",
    "                                   color=y,\n",
    "                                   colorscale='magma',\n",
    "                                   symbol='square'),\n",
    "                       hoverinfo='none',\n",
    "                       showlegend=False)\n",
    "\n",
    "fig = go.Figure(image3d)\n",
    "\n",
    "fig.layout.scene.camera=dict(eye=dict(x=0, y=0, z=-1),\n",
    "                             up=dict(x=0, y=1, z=0),\n",
    "                             projection=dict(type='orthographic'))\n",
    "\n",
    "fig.update_layout(template='plotly_white',\n",
    "                  scene=dict(xaxis=dict(visible=False),\n",
    "                             yaxis=dict(visible=False,),\n",
    "                             zaxis=dict(visible=False),\n",
    "                             aspectmode='data'),\n",
    "                  hoverlabel=dict(font_size=18),\n",
    "                  width=width,\n",
    "                  height=height,\n",
    "                  margin=dict(r=0, l=0, b=0, t=0, pad=0))"
   ]
  },
  {
   "cell_type": "markdown",
   "metadata": {},
   "source": [
    "## Comparing 3D object and 2D projection (in 3D space)"
   ]
  },
  {
   "cell_type": "code",
   "execution_count": null,
   "metadata": {},
   "outputs": [],
   "source": [
    "fig = make_subplots(rows=1,\n",
    "                    cols=2,\n",
    "                    horizontal_spacing=0,\n",
    "                    vertical_spacing=0,\n",
    "                    specs=[[dict(type='scene'), dict(type='scene')]])\n",
    "\n",
    "fig.add_trace(object3d, row=1, col=1)\n",
    "fig.add_trace(image3d, row=1, col=2)\n",
    "\n",
    "fig.layout.scene.camera=dict(eye=dict(x=0, y=0, z=-2.5),\n",
    "                             up=dict(x=0, y=1, z=0))\n",
    "fig.layout.scene2.camera=dict(eye=dict(x=0, y=0, z=-9),\n",
    "                              up=dict(x=0, y=1, z=0))\n",
    "\n",
    "fig.update_layout(template='plotly_white',\n",
    "                  scene=dict(xaxis=dict(visible=False),\n",
    "                             yaxis=dict(visible=False),\n",
    "                             zaxis=dict(visible=False),\n",
    "                             aspectmode='data'),\n",
    "                  scene2=dict(xaxis=dict(visible=False),\n",
    "                              yaxis=dict(visible=False),\n",
    "                              zaxis=dict(visible=False),\n",
    "                              aspectmode='data'),\n",
    "                  hoverlabel=dict(font_size=18),\n",
    "                  height=400,\n",
    "                  margin=dict(r=0, l=0, b=0, t=0, pad=0))"
   ]
  },
  {
   "cell_type": "code",
   "execution_count": null,
   "metadata": {},
   "outputs": [],
   "source": [
    "# Save figure\n",
    "pio.write_html(fig,\n",
    "               file=f\"../_includes/figures/dragon_3d_2d.html\",\n",
    "               full_html=False,\n",
    "               include_plotlyjs='cdn')"
   ]
  },
  {
   "cell_type": "markdown",
   "metadata": {},
   "source": [
    "## Putting it all together"
   ]
  },
  {
   "cell_type": "code",
   "execution_count": null,
   "metadata": {},
   "outputs": [],
   "source": [
    "fig = go.Figure([image3d, object3d])\n",
    "\n",
    "# The viewpoint and field of view\n",
    "eye = go.Scatter3d(x=[0], y=[0], z=[0], marker=dict(size=10, color='black'), name=\"eye\", hoverinfo='name')\n",
    "view = []\n",
    "view.append(go.Scatter3d(x=[0, 170], y=[0, 90], z=[0, 270], mode='lines', marker_color='red', hoverinfo='none'))\n",
    "view.append(go.Scatter3d(x=[0, 170], y=[0, -90], z=[0, 270], mode='lines', marker_color='red', hoverinfo='none'))\n",
    "view.append(go.Scatter3d(x=[0, -170], y=[0, 90], z=[0, 270], mode='lines', marker_color='red', hoverinfo='none'))\n",
    "view.append(go.Scatter3d(x=[0, -170], y=[0, -90], z=[0, 270], mode='lines', marker_color='red', hoverinfo='none'))\n",
    "\n",
    "view.append(go.Scatter3d(x=[-170, 170], y=[90, 90], z=[270, 270], mode='lines', marker_color='red', hoverinfo='none'))\n",
    "view.append(go.Scatter3d(x=[-170, 170], y=[-90, -90], z=[270, 270], mode='lines', marker_color='red', hoverinfo='none'))\n",
    "view.append(go.Scatter3d(x=[170, 170], y=[-90, 90], z=[270, 270], mode='lines', marker_color='red', hoverinfo='none'))\n",
    "view.append(go.Scatter3d(x=[-170, -170], y=[-90, 90], z=[270, 270], mode='lines', marker_color='red', hoverinfo='none'))\n",
    "\n",
    "view.append(go.Scatter3d(x=[-50.37, 50.37], y=[26.67, 26.67], z=[80, 80], mode='lines', marker_color='black',\n",
    "                         hovertemplate=\"<b>Image</b><extra></extra>\"))\n",
    "view.append(go.Scatter3d(x=[-50.37, 50.37], y=[-26.67, -26.67], z=[80, 80], mode='lines', marker_color='black',\n",
    "                         hovertemplate=\"<b>Image</b><extra></extra>\"))\n",
    "view.append(go.Scatter3d(x=[50.37, 50.37], y=[-26.67, 26.67], z=[80, 80], mode='lines', marker_color='black',\n",
    "                         hovertemplate=\"<b>Image</b><extra></extra>\"))\n",
    "view.append(go.Scatter3d(x=[-50.37, -50.37], y=[-26.67, 26.67], z=[80, 80], mode='lines', marker_color='black',\n",
    "                         hovertemplate=\"<b>Image</b><extra></extra>\"))\n",
    "\n",
    "view.append(go.Scatter3d(x=[0, -21.94], y=[0, 19.14], z=[0, 168.49], mode='markers+lines', marker_color='lime',\n",
    "                         hovertemplate=\"<b>Projection</b><extra></extra>\", marker_size=2))\n",
    "view.append(eye)\n",
    "\n",
    "fig.add_traces(view)\n",
    "\n",
    "fig.layout.scene.camera=dict(eye=dict(x=-1, y=1, z=-1),\n",
    "                             up=dict(x=0, y=1, z=0),\n",
    "                             center=dict(x=-0.3, y=0.2))\n",
    "\n",
    "fig.update_layout(template='plotly_white',\n",
    "                  scene=dict(xaxis=dict(visible=False),\n",
    "                             yaxis=dict(visible=False),\n",
    "                             zaxis=dict(visible=False),\n",
    "                             aspectmode='data'),\n",
    "                  hoverlabel=dict(font_size=18),\n",
    "                  showlegend=False,\n",
    "                  height=700,\n",
    "                  margin=dict(r=0, l=0, b=0, t=0, pad=0))"
   ]
  },
  {
   "cell_type": "code",
   "execution_count": null,
   "metadata": {},
   "outputs": [],
   "source": [
    "# Save figure\n",
    "pio.write_html(fig,\n",
    "               file=f\"../_includes/figures/projection.html\",\n",
    "               full_html=False,\n",
    "               include_plotlyjs='cdn')"
   ]
  }
 ],
 "metadata": {
  "kernelspec": {
   "display_name": "Python [conda env:blog] *",
   "language": "python",
   "name": "conda-env-blog-py"
  },
  "language_info": {
   "codemirror_mode": {
    "name": "ipython",
    "version": 3
   },
   "file_extension": ".py",
   "mimetype": "text/x-python",
   "name": "python",
   "nbconvert_exporter": "python",
   "pygments_lexer": "ipython3",
   "version": "3.8.5"
  }
 },
 "nbformat": 4,
 "nbformat_minor": 4
}
