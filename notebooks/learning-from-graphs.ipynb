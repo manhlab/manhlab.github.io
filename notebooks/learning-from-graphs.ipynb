{
 "cells": [
  {
   "cell_type": "markdown",
   "metadata": {},
   "source": [
    "# Learning from Graphs"
   ]
  },
  {
   "cell_type": "code",
   "execution_count": null,
   "metadata": {},
   "outputs": [],
   "source": [
    "import numpy as np\n",
    "from PIL import Image\n",
    "import open3d as o3d\n",
    "import plotly.graph_objects as go\n",
    "import plotly.io as pio\n",
    "from plotly.subplots import make_subplots\n",
    "import plotly.figure_factory as ff"
   ]
  },
  {
   "cell_type": "markdown",
   "metadata": {},
   "source": [
    "## The point cloud"
   ]
  },
  {
   "cell_type": "code",
   "execution_count": null,
   "metadata": {},
   "outputs": [],
   "source": [
    "# Load point cloud data\n",
    "pcd = o3d.io.read_point_cloud(\"../data/happy_vrip_res3.ply\")"
   ]
  },
  {
   "cell_type": "markdown",
   "metadata": {},
   "source": [
    "## Point clouds as meshes"
   ]
  },
  {
   "cell_type": "code",
   "execution_count": null,
   "metadata": {},
   "outputs": [],
   "source": [
    "# Best parameters (lowest density variance) were found using grid search between [1, 20]\n",
    "# for both parameters. Good normals are crucial for mesh reconstruction!\n",
    "print(\"Computing surface normals...\")\n",
    "pcd.estimate_normals(o3d.geometry.KDTreeSearchParamKNN(8))\n",
    "pcd.orient_normals_consistent_tangent_plane(8)\n",
    "\n",
    "# Increase `depth` to get finer details\n",
    "# This can take some time without a multi-core cpu\n",
    "print(\"Making triangle mesh...\")\n",
    "mesh, densities = o3d.geometry.TriangleMesh.create_from_point_cloud_poisson(pcd, depth=9, n_threads=16)\n",
    "mesh.remove_duplicated_vertices()\n",
    "mesh.remove_unreferenced_vertices()\n",
    "mesh.remove_duplicated_triangles()\n",
    "mesh.remove_degenerate_triangles()\n",
    "print(mesh)\n",
    "\n",
    "# Reduce resolution to reduce file size\n",
    "print(\"Decimating triangles...\")\n",
    "mesh = mesh.simplify_quadric_decimation(target_number_of_triangles=5000)\n",
    "print(mesh)\n",
    "\n",
    "vertices = np.asarray(mesh.vertices)\n",
    "triangles = np.asarray(mesh.triangles)\n",
    "x = vertices[:, 0]\n",
    "y = vertices[:, 1]\n",
    "z = vertices[:, 2]\n",
    "\n",
    "fig = go.Figure(ff.create_trisurf(x=x, y=y, z=z,\n",
    "                                  simplices=triangles,\n",
    "                                  plot_edges=True,\n",
    "                                  edges_color='black',\n",
    "                                  colormap='Greys',\n",
    "                                  show_colorbar=False).data)\n",
    "fig.data[0].visible = False\n",
    "fig.data[0].hoverinfo='none'\n",
    "fig.data[1].hoverinfo='none'\n",
    "\n",
    "fig.add_trace(go.Scatter3d(x=x,\n",
    "                           y=y,\n",
    "                           z=z,\n",
    "                           mode=\"markers\",\n",
    "                           hovertemplate=\"<b>Vertex</b><br>x: %{x}<br>y: %{y}<br>z: %{z}<extra></extra>\",\n",
    "                           hoverlabel=dict(bgcolor=\"white\"),\n",
    "                           marker=dict(size=4,\n",
    "                                       color='red')))\n",
    "\n",
    "# The figure factory creates two plots: 1. The triangle model, 2. The mesh.\n",
    "# Visibility is set here changed in the visualization using the buttons.\n",
    "buttons = [dict(label=\"mesh\", method=\"update\", args=[dict(visible=[False, True, True])]),\n",
    "           dict(label=\"mesh w/ faces\", method=\"update\", args=[dict(visible=[True, True, True])]),\n",
    "           dict(label=\"w/o mesh\", method=\"update\", args=[dict(visible=[True, False, False])])]\n",
    "\n",
    "# Viewpoint\n",
    "camera = dict(eye=dict(x=-0.1, y=0.01, z=0.06),\n",
    "              up=dict(x=0, y=1, z=0),\n",
    "              center=dict(x=0, y=0, z=0))\n",
    "\n",
    "fig.update_layout(scene=dict(\n",
    "                    xaxis=dict(visible=False),\n",
    "                    yaxis=dict(visible=False),\n",
    "                    zaxis=dict(visible=False),\n",
    "                    aspectmode='data'),\n",
    "                  showlegend=False,\n",
    "                  height=1024,\n",
    "                  margin=dict(r=0, l=0, b=0, t=0, pad=0),\n",
    "                  scene_camera=camera,\n",
    "                  scene_dragmode=\"orbit\",\n",
    "                  updatemenus=[dict(buttons=buttons, x=0.2, y=1)])"
   ]
  },
  {
   "cell_type": "code",
   "execution_count": null,
   "metadata": {},
   "outputs": [],
   "source": [
    "# Save figure\n",
    "pio.write_html(fig,\n",
    "               file=f\"../_includes/figures/graph.html\",\n",
    "               full_html=False,\n",
    "               include_plotlyjs='cdn')"
   ]
  }
 ],
 "metadata": {
  "kernelspec": {
   "display_name": "Python [conda env:blog] *",
   "language": "python",
   "name": "conda-env-blog-py"
  },
  "language_info": {
   "codemirror_mode": {
    "name": "ipython",
    "version": 3
   },
   "file_extension": ".py",
   "mimetype": "text/x-python",
   "name": "python",
   "nbconvert_exporter": "python",
   "pygments_lexer": "ipython3",
   "version": "3.8.5"
  }
 },
 "nbformat": 4,
 "nbformat_minor": 4
}
